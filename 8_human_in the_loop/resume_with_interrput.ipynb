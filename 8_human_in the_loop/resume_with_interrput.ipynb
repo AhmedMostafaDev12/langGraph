{
 "cells": [
  {
   "cell_type": "code",
   "execution_count": null,
   "id": "ff09e4a0",
   "metadata": {},
   "outputs": [
    {
     "data": {
      "text/plain": [
       "<langgraph.graph.state.StateGraph at 0x134083e8c10>"
      ]
     },
     "execution_count": 2,
     "metadata": {},
     "output_type": "execute_result"
    }
   ],
   "source": [
    "from langgraph.graph import StateGraph, START, END\n",
    "from langgraph.types import Command, interrupt\n",
    "from typing import TypedDict\n",
    "from langgraph.checkpoint.memory import MemorySaver\n",
    "\n",
    "\n",
    "memory = MemorySaver()\n",
    "\n",
    "class State(TypedDict):\n",
    "    value: str\n",
    "\n",
    "def node_a(state: State): \n",
    "    print(\"Node A\")\n",
    "    return Command(\n",
    "        goto=\"node_b\", \n",
    "        update={\n",
    "            \"value\": state[\"value\"] + \"a\"\n",
    "        }\n",
    "    )\n",
    "\n",
    "def node_b(state: State): \n",
    "    print(\"Node B\")\n",
    "    #-----------------------the first way to use interrupt--------------------------------------#\n",
    "    #----------------------- interrupt function with command class -----------------------------# \n",
    "    human_response = interrupt(\"Do you want to go to C or D? Type C/D\")\n",
    "\n",
    "    print(\"Human Review Values: \", human_response)\n",
    "    \n",
    "    if(human_response == \"C\"): \n",
    "        return Command(\n",
    "            goto=\"node_c\", \n",
    "            update={\n",
    "                \"value\": state[\"value\"] + \"b\"\n",
    "            }\n",
    "        ) \n",
    "    elif(human_response == \"D\"): \n",
    "        return Command(\n",
    "            goto=\"node_d\", \n",
    "            update={\n",
    "                \"value\": state[\"value\"] + \"b\"\n",
    "            }\n",
    "        )\n",
    "\n",
    "\n",
    "def node_c(state: State): \n",
    "    print(\"Node C\")\n",
    "    return Command(\n",
    "        goto=END, \n",
    "        update={\n",
    "            \"value\": state[\"value\"] + \"c\"\n",
    "        }\n",
    "    )\n",
    "\n",
    "def node_d(state: State): \n",
    "    print(\"Node D\")\n",
    "    return Command(\n",
    "        goto=END, \n",
    "        update={\n",
    "            \"value\": state[\"value\"] + \"d\"\n",
    "        }\n",
    ")\n",
    "\n",
    "graph = StateGraph(State)\n",
    "\n",
    "graph.add_node(\"node_a\", node_a)\n",
    "graph.add_node(\"node_b\", node_b)\n",
    "graph.add_node(\"node_c\", node_c)\n",
    "graph.add_node(\"node_d\", node_d)\n",
    "\n",
    "graph.set_entry_point(\"node_a\") "
   ]
  },
  {
   "cell_type": "code",
   "execution_count": 3,
   "id": "cfbf868a",
   "metadata": {},
   "outputs": [],
   "source": [
    "app = graph.compile(checkpointer = memory)\n",
    "config = {\"configurable\" : {\"thread_id\":\"1\"}}\n",
    "initialState = {\n",
    "    \"value\" : \"\"\n",
    "}"
   ]
  },
  {
   "cell_type": "code",
   "execution_count": 4,
   "id": "a9c61ee5",
   "metadata": {},
   "outputs": [
    {
     "name": "stdout",
     "output_type": "stream",
     "text": [
      "Node A\n",
      "Node B\n"
     ]
    },
    {
     "data": {
      "text/plain": [
       "[{'node_a': {'value': 'a'}},\n",
       " {'__interrupt__': (Interrupt(value='Do you want to go to C or D? Type C/D', resumable=True, ns=['node_b:8bb7052f-ccf1-0f51-7704-e540924dbc60']),)}]"
      ]
     },
     "execution_count": 4,
     "metadata": {},
     "output_type": "execute_result"
    }
   ],
   "source": [
    "first_result = app.invoke(initialState, config, stream_mode=\"updates\")\n",
    "first_result"
   ]
  },
  {
   "cell_type": "code",
   "execution_count": 5,
   "id": "5ebac3f2",
   "metadata": {},
   "outputs": [
    {
     "name": "stdout",
     "output_type": "stream",
     "text": [
      "('node_b',)\n"
     ]
    }
   ],
   "source": [
    "print(app.get_state(config).next)"
   ]
  },
  {
   "cell_type": "markdown",
   "id": "75d814a9",
   "metadata": {},
   "source": [
    "### Operations with Interrupts:\n",
    "1. resume- continue execution with input from the user without modifying the state\n",
    "2. update and modify- update the state and continue execution \n",
    "3. rewind / time Travel- Go back to a previous checkpoint in the execution \n",
    "4. branch- create a new branch from the current execution state to explore alternative paths "
   ]
  },
  {
   "cell_type": "code",
   "execution_count": 6,
   "id": "6e95643b",
   "metadata": {},
   "outputs": [
    {
     "name": "stdout",
     "output_type": "stream",
     "text": [
      "Node B\n",
      "Human Review Values:  C\n",
      "Node C\n"
     ]
    }
   ],
   "source": [
    "second_result = app.invoke(Command(resume=\"C\"), config = config, stream_mode = \"updates\")"
   ]
  },
  {
   "cell_type": "code",
   "execution_count": null,
   "id": "f22c5d45",
   "metadata": {},
   "outputs": [],
   "source": []
  }
 ],
 "metadata": {
  "kernelspec": {
   "display_name": "langgraph-env",
   "language": "python",
   "name": "python3"
  },
  "language_info": {
   "codemirror_mode": {
    "name": "ipython",
    "version": 3
   },
   "file_extension": ".py",
   "mimetype": "text/x-python",
   "name": "python",
   "nbconvert_exporter": "python",
   "pygments_lexer": "ipython3",
   "version": "3.11.13"
  }
 },
 "nbformat": 4,
 "nbformat_minor": 5
}
