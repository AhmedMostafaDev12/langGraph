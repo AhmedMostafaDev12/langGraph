{
 "cells": [
  {
   "cell_type": "code",
   "execution_count": null,
   "id": "c17e8ec7",
   "metadata": {},
   "outputs": [],
   "source": [
    "from langchain.schema  import Document\n",
    "from langchain_google_genai import Chat"
   ]
  },
  {
   "cell_type": "code",
   "execution_count": null,
   "id": "5ea56686",
   "metadata": {},
   "outputs": [],
   "source": []
  }
 ],
 "metadata": {
  "kernelspec": {
   "display_name": "Python 3",
   "language": "python",
   "name": "python3"
  },
  "language_info": {
   "name": "python",
   "version": "3.11.13"
  }
 },
 "nbformat": 4,
 "nbformat_minor": 5
}
