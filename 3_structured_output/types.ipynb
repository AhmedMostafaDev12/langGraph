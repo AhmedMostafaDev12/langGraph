{
 "cells": [
  {
   "cell_type": "code",
   "execution_count": 2,
   "id": "81e09041",
   "metadata": {},
   "outputs": [],
   "source": [
    "from pydantic import BaseModel, Field\n",
    "from langchain_google_genai import ChatGoogleGenerativeAI\n",
    "from dotenv import load_dotenv\n",
    "\n",
    "load_dotenv()\n",
    "llm = ChatGoogleGenerativeAI(model=\"gemini-2.5-flash\")\n",
    "class Country(BaseModel):\n",
    "    \"\"\"Information about a country.\"\"\"\n",
    "    name : str = Field(..., description=\"The name of the country\")\n",
    "    capital : str = Field(..., description=\"The capital city of the country\")\n",
    "    population : int = Field(..., description=\"The population of the country\")\n",
    "\n",
    "structured_llm = llm.with_structured_output(Country)\n",
    "\n"
   ]
  },
  {
   "cell_type": "code",
   "execution_count": 3,
   "id": "f28de122",
   "metadata": {},
   "outputs": [
    {
     "data": {
      "text/plain": [
       "Country(name='Canada', capital='Ottawa', population=38000000)"
      ]
     },
     "execution_count": 3,
     "metadata": {},
     "output_type": "execute_result"
    }
   ],
   "source": [
    "structured_llm.invoke(\"tell mw about Canada\")"
   ]
  },
  {
   "cell_type": "code",
   "execution_count": 10,
   "id": "d4846afd",
   "metadata": {},
   "outputs": [],
   "source": [
    "json_schema = {\n",
    "    \"title\" : \"joke\",\n",
    "    \"description\" : \"a joke to tell user.\",\n",
    "    \"type\" : \"object\",\n",
    "    \"properties\" : {\n",
    "        \"setup\" : {\n",
    "            \"type\" : \"string\",\n",
    "            \"description\" : \"the setup or the question of the joke.\"\n",
    "        },\n",
    "        \"punchline\" : {\n",
    "            \"type\" : \"string\",\n",
    "            \"description\" : \"the punchline of the joke.\"\n",
    "        },\n",
    "    },\n",
    "    \"required\" : [\"setup\", \"punchline\"]\n",
    "}\n",
    "structured_llm = llm.with_structured_output(json_schema)"
   ]
  },
  {
   "cell_type": "code",
   "execution_count": 11,
   "id": "aaa2bf44",
   "metadata": {},
   "outputs": [
    {
     "name": "stderr",
     "output_type": "stream",
     "text": [
      "Key 'parameters' is not supported in schema, ignoring\n"
     ]
    },
    {
     "data": {
      "text/plain": [
       "{'punchline': 'A catfish!', 'setup': 'What do you call a cat that can swim?'}"
      ]
     },
     "execution_count": 11,
     "metadata": {},
     "output_type": "execute_result"
    }
   ],
   "source": [
    "structured_llm.invoke(\"tell me a joke about cats\")"
   ]
  },
  {
   "cell_type": "code",
   "execution_count": null,
   "id": "e7d369b5",
   "metadata": {},
   "outputs": [],
   "source": []
  }
 ],
 "metadata": {
  "kernelspec": {
   "display_name": "Python 3",
   "language": "python",
   "name": "python3"
  },
  "language_info": {
   "codemirror_mode": {
    "name": "ipython",
    "version": 3
   },
   "file_extension": ".py",
   "mimetype": "text/x-python",
   "name": "python",
   "nbconvert_exporter": "python",
   "pygments_lexer": "ipython3",
   "version": "3.12.8"
  }
 },
 "nbformat": 4,
 "nbformat_minor": 5
}
