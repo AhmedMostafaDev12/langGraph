{
 "cells": [
  {
   "cell_type": "code",
   "execution_count": 1,
   "id": "7cb533a7",
   "metadata": {},
   "outputs": [
    {
     "name": "stderr",
     "output_type": "stream",
     "text": [
      "c:\\Users\\USER\\anaconda3\\envs\\myenv\\Lib\\site-packages\\tqdm\\auto.py:21: TqdmWarning: IProgress not found. Please update jupyter and ipywidgets. See https://ipywidgets.readthedocs.io/en/stable/user_install.html\n",
      "  from .autonotebook import tqdm as notebook_tqdm\n"
     ]
    },
    {
     "data": {
      "text/plain": [
       "True"
      ]
     },
     "execution_count": 1,
     "metadata": {},
     "output_type": "execute_result"
    }
   ],
   "source": [
    "\n",
    "from typing import TypedDict, Annotated\n",
    "from langgraph.graph import add_messages, StateGraph, END\n",
    "from langchain_google_genai import ChatGoogleGenerativeAI\n",
    "from langchain_core.messages import AIMessage, HumanMessage\n",
    "from dotenv import load_dotenv\n",
    "from langchain_community.tools.tavily_search import TavilySearchResults\n",
    "from langgraph.prebuilt import ToolNode\n",
    "\n",
    "load_dotenv()"
   ]
  },
  {
   "cell_type": "code",
   "execution_count": 2,
   "id": "dc7b22aa",
   "metadata": {},
   "outputs": [],
   "source": [
    "class ChildState(TypedDict):\n",
    "    messages: Annotated[list, add_messages]\n",
    "\n",
    "search_tool = TavilySearchResults(max_results=2)\n",
    "tools = [search_tool]\n",
    "llm = ChatGoogleGenerativeAI(model= \"gemini-2.5-flash\")\n",
    "llm_with_tools = llm.bind_tools(tools = tools)"
   ]
  },
  {
   "cell_type": "code",
   "execution_count": 3,
   "id": "c76a6d10",
   "metadata": {},
   "outputs": [],
   "source": [
    "def agent(state: ChildState):\n",
    "    return {\n",
    "        \"messages\" : [llm_with_tools.invoke(state[\"messages\"])],\n",
    "    }"
   ]
  },
  {
   "cell_type": "code",
   "execution_count": 4,
   "id": "eabd7f8d",
   "metadata": {},
   "outputs": [],
   "source": [
    "def tool_router(state: ChildState):\n",
    "    last_message = state[\"messages\"][-1]\n",
    "\n",
    "    if(hasattr(last_message, \"tool_calls\") and len(last_message.tool_calls) > 0):\n",
    "        return \"tool_node\"\n",
    "    else: \n",
    "        return END"
   ]
  },
  {
   "cell_type": "code",
   "execution_count": 5,
   "id": "7b5001a7",
   "metadata": {},
   "outputs": [],
   "source": [
    "tool_node = ToolNode(tools=tools)\n",
    "subgraph = StateGraph(ChildState)\n",
    "subgraph.add_node(\"agent\",agent)\n",
    "subgraph.add_node(\"tool_node\",tool_node)\n",
    "subgraph.set_entry_point(\"agent\")\n",
    "\n",
    "subgraph.add_conditional_edges(\"agent\",tool_router)\n",
    "subgraph.add_edge(\"tool_node\", \"agent\")\n",
    "\n",
    "search_app = subgraph.compile()"
   ]
  },
  {
   "cell_type": "code",
   "execution_count": 6,
   "id": "49027c6d",
   "metadata": {},
   "outputs": [],
   "source": [
    "# from IPython.display import Image, display\n",
    "# from langchain_core.runnables.graph import MermaidDrawMethod\n",
    "\n",
    "# display(\n",
    "#     Image(\n",
    "#         search_app.get_graph().draw_mermaid_png(\n",
    "#             draw_method=MermaidDrawMethod.API\n",
    "#         )\n",
    "#     )\n",
    "# )"
   ]
  },
  {
   "cell_type": "code",
   "execution_count": 7,
   "id": "ca094553",
   "metadata": {},
   "outputs": [
    {
     "data": {
      "text/plain": [
       "{'messages': [HumanMessage(content='How is the weather in Chennai?', additional_kwargs={}, response_metadata={}, id='e66be21d-cf6d-46c6-8f52-13cf339342c1'),\n",
       "  AIMessage(content='', additional_kwargs={'function_call': {'name': 'tavily_search_results_json', 'arguments': '{\"query\": \"weather in Chennai\"}'}}, response_metadata={'prompt_feedback': {'block_reason': 0, 'safety_ratings': []}, 'finish_reason': 'STOP', 'safety_ratings': []}, id='run--788f7bfa-8e0f-41e5-8a51-42344871bdb6-0', tool_calls=[{'name': 'tavily_search_results_json', 'args': {'query': 'weather in Chennai'}, 'id': 'f09622d1-2ae9-41ff-9eea-0ebc239b1ab5', 'type': 'tool_call'}], usage_metadata={'input_tokens': 81, 'output_tokens': 23, 'total_tokens': 159, 'input_token_details': {'cache_read': 0}}),\n",
       "  ToolMessage(content='[{\"url\": \"https://timesofindia.indiatimes.com/city/chennai/chennai-weather-update-warmth-light-rain-and-air-quality-insights-for-september-27-2025/articleshow/124174205.cms\", \"content\": \"The data for this weather forecast has been sourced from AQI.in, providing residents with comprehensive information to plan their daily activities and weekly schedules accordingly.Chennai\\'s weather forecast for September 27, 2025, indicates a mix of warmth and light rain with temperatures ranging from 35.1°C during the day to 26.8°C at night.The city will experience patchy rain throughout the day with an 84% chance of precipitation, while the previous day\\'s air quality remained moderate with an [...] Chennai experiences a warm and humid day today, September 27, 2025, with temperatures peaking at 35.1°C and an 84% chance of patchy rain. Yesterday\\'s air quality was moderate, but showers might offer slight improvement. Residents are advised to carry umbrellas and plan morning outdoor activities. [...] Delhi BMW Accident\\\\n\\\\nDelhi British Women Murder\\\\n\\\\nAzam Khan\\\\n\\\\nKolkata Weather\\\\n\\\\n# Chennai weather: Warm temperatures with rain; AQI remains moderate\\\\n\\\\nTIMESOFINDIA.COM / Updated: Sep 27, 2025, 09:03 IST\\\\n\\\\nShare\\\\n\\\\nAA\\\\n\\\\nText Size\\\\n\\\\n Small\\\\n Medium\\\\n Large\"}, {\"url\": \"https://thesouthfirst.com/news/weather-update-forecast-for-major-south-indian-cities-on-saturday-2/\", \"content\": \"Published Sep 27, 2025 | 6:30 AM ⚊ Updated Sep 27, 2025 | 6:30 AM\\\\n\\\\nWeather forecast. (iStock)\\\\n\\\\nPlanning your day in South Indian cities of Hyderabad, Amaravati, Bengaluru, Thiruvananthapuram, or Chennai? Here’s what the weather has in store.\\\\n\\\\nWeather forecast for Saturday, 27 September 2025, as reported by the India Meteorological Department on Friday, 26 September, at 9:00 PM.\\\\n\\\\n### Hyderabad: Heavy rainfall\\\\n\\\\nThe city is expected to have a generally cloudy sky accompanied by heavy rainfall.\"}]', name='tavily_search_results_json', id='f6e60cb0-9e8c-499f-b8e6-7ff8db001147', tool_call_id='f09622d1-2ae9-41ff-9eea-0ebc239b1ab5', artifact={'query': 'weather in Chennai', 'follow_up_questions': None, 'answer': None, 'images': [], 'results': [{'url': 'https://timesofindia.indiatimes.com/city/chennai/chennai-weather-update-warmth-light-rain-and-air-quality-insights-for-september-27-2025/articleshow/124174205.cms', 'title': 'Chennai weather: Warm temperatures with rain; AQI remains ...', 'content': \"The data for this weather forecast has been sourced from AQI.in, providing residents with comprehensive information to plan their daily activities and weekly schedules accordingly.Chennai's weather forecast for September 27, 2025, indicates a mix of warmth and light rain with temperatures ranging from 35.1°C during the day to 26.8°C at night.The city will experience patchy rain throughout the day with an 84% chance of precipitation, while the previous day's air quality remained moderate with an [...] Chennai experiences a warm and humid day today, September 27, 2025, with temperatures peaking at 35.1°C and an 84% chance of patchy rain. Yesterday's air quality was moderate, but showers might offer slight improvement. Residents are advised to carry umbrellas and plan morning outdoor activities. [...] Delhi BMW Accident\\n\\nDelhi British Women Murder\\n\\nAzam Khan\\n\\nKolkata Weather\\n\\n# Chennai weather: Warm temperatures with rain; AQI remains moderate\\n\\nTIMESOFINDIA.COM / Updated: Sep 27, 2025, 09:03 IST\\n\\nShare\\n\\nAA\\n\\nText Size\\n\\n Small\\n Medium\\n Large\", 'score': 0.9748428, 'raw_content': None}, {'url': 'https://thesouthfirst.com/news/weather-update-forecast-for-major-south-indian-cities-on-saturday-2/', 'title': 'Weather update: Forecast for major South Indian cities on Saturday', 'content': 'Published Sep 27, 2025 | 6:30 AM ⚊ Updated Sep 27, 2025 | 6:30 AM\\n\\nWeather forecast. (iStock)\\n\\nPlanning your day in South Indian cities of Hyderabad, Amaravati, Bengaluru, Thiruvananthapuram, or Chennai? Here’s what the weather has in store.\\n\\nWeather forecast for Saturday, 27 September 2025, as reported by the India Meteorological Department on Friday, 26 September, at 9:00 PM.\\n\\n### Hyderabad: Heavy rainfall\\n\\nThe city is expected to have a generally cloudy sky accompanied by heavy rainfall.', 'score': 0.914176, 'raw_content': None}], 'response_time': 1.59, 'request_id': '07a2c155-c33e-4a2e-b4ee-f3f235a6ceac'}),\n",
       "  AIMessage(content='The weather in Chennai on September 27, 2025, is warm and humid, with temperatures reaching 35.1°C during the day and 26.8°C at night. There is an 84% chance of patchy rain throughout the day. The air quality was moderate yesterday, and showers might offer a slight improvement.', additional_kwargs={}, response_metadata={'prompt_feedback': {'block_reason': 0, 'safety_ratings': []}, 'finish_reason': 'STOP', 'safety_ratings': []}, id='run--c14d0e3b-5453-45c1-9304-c2cb8f1beb94-0', usage_metadata={'input_tokens': 676, 'output_tokens': 75, 'total_tokens': 751, 'input_token_details': {'cache_read': 0}})]}"
      ]
     },
     "execution_count": 7,
     "metadata": {},
     "output_type": "execute_result"
    }
   ],
   "source": [
    "\n",
    "search_app.invoke({\"messages\": [HumanMessage(content=\"How is the weather in Chennai?\")]})"
   ]
  },
  {
   "cell_type": "markdown",
   "id": "80c8da71",
   "metadata": {},
   "source": [
    "### Case 1: shared same schema(Direct Embedding)"
   ]
  },
  {
   "cell_type": "code",
   "execution_count": 8,
   "id": "e9209c2e",
   "metadata": {},
   "outputs": [],
   "source": [
    "from typing import TypedDict, Annotated\n",
    "from langgraph.graph import add_messages, StateGraph, START, END\n",
    "from langchain_core.messages import HumanMessage"
   ]
  },
  {
   "cell_type": "code",
   "execution_count": 10,
   "id": "1724c263",
   "metadata": {},
   "outputs": [
    {
     "data": {
      "text/plain": [
       "{'messages': [HumanMessage(content='How is the weather in Chennai?', additional_kwargs={}, response_metadata={}, id='dcb3187c-fb6e-41a2-b47c-e00af26a6f8a'),\n",
       "  AIMessage(content='', additional_kwargs={'function_call': {'name': 'tavily_search_results_json', 'arguments': '{\"query\": \"weather in Chennai\"}'}}, response_metadata={'prompt_feedback': {'block_reason': 0, 'safety_ratings': []}, 'finish_reason': 'STOP', 'safety_ratings': []}, id='run--ed4fa2a6-5d73-4fd3-8ef5-f85cdbe9dc2d-0', tool_calls=[{'name': 'tavily_search_results_json', 'args': {'query': 'weather in Chennai'}, 'id': 'e0908bd0-dc32-4a7f-a02c-5431dfb21e88', 'type': 'tool_call'}], usage_metadata={'input_tokens': 81, 'output_tokens': 23, 'total_tokens': 159, 'input_token_details': {'cache_read': 0}}),\n",
       "  ToolMessage(content='[{\"url\": \"https://timesofindia.indiatimes.com/city/chennai/chennai-weather-update-warmth-light-rain-and-air-quality-insights-for-september-27-2025/articleshow/124174205.cms\", \"content\": \"The data for this weather forecast has been sourced from AQI.in, providing residents with comprehensive information to plan their daily activities and weekly schedules accordingly.Chennai\\'s weather forecast for September 27, 2025, indicates a mix of warmth and light rain with temperatures ranging from 35.1°C during the day to 26.8°C at night.The city will experience patchy rain throughout the day with an 84% chance of precipitation, while the previous day\\'s air quality remained moderate with an [...] Chennai experiences a warm and humid day today, September 27, 2025, with temperatures peaking at 35.1°C and an 84% chance of patchy rain. Yesterday\\'s air quality was moderate, but showers might offer slight improvement. Residents are advised to carry umbrellas and plan morning outdoor activities. [...] Delhi BMW Accident\\\\n\\\\nDelhi British Women Murder\\\\n\\\\nAzam Khan\\\\n\\\\nKolkata Weather\\\\n\\\\n# Chennai weather: Warm temperatures with rain; AQI remains moderate\\\\n\\\\nTIMESOFINDIA.COM / Updated: Sep 27, 2025, 09:03 IST\\\\n\\\\nShare\\\\n\\\\nAA\\\\n\\\\nText Size\\\\n\\\\n Small\\\\n Medium\\\\n Large\"}, {\"url\": \"https://thesouthfirst.com/news/weather-update-forecast-for-major-south-indian-cities-on-saturday-2/\", \"content\": \"Published Sep 27, 2025 | 6:30 AM ⚊ Updated Sep 27, 2025 | 6:30 AM\\\\n\\\\nWeather forecast. (iStock)\\\\n\\\\nPlanning your day in South Indian cities of Hyderabad, Amaravati, Bengaluru, Thiruvananthapuram, or Chennai? Here’s what the weather has in store.\\\\n\\\\nWeather forecast for Saturday, 27 September 2025, as reported by the India Meteorological Department on Friday, 26 September, at 9:00 PM.\\\\n\\\\n### Hyderabad: Heavy rainfall\\\\n\\\\nThe city is expected to have a generally cloudy sky accompanied by heavy rainfall.\"}]', name='tavily_search_results_json', id='fe52f3e3-7bde-4daa-9fb2-b4fb0ecaf907', tool_call_id='e0908bd0-dc32-4a7f-a02c-5431dfb21e88', artifact={'query': 'weather in Chennai', 'follow_up_questions': None, 'answer': None, 'images': [], 'results': [{'url': 'https://timesofindia.indiatimes.com/city/chennai/chennai-weather-update-warmth-light-rain-and-air-quality-insights-for-september-27-2025/articleshow/124174205.cms', 'title': 'Chennai weather: Warm temperatures with rain; AQI remains ...', 'content': \"The data for this weather forecast has been sourced from AQI.in, providing residents with comprehensive information to plan their daily activities and weekly schedules accordingly.Chennai's weather forecast for September 27, 2025, indicates a mix of warmth and light rain with temperatures ranging from 35.1°C during the day to 26.8°C at night.The city will experience patchy rain throughout the day with an 84% chance of precipitation, while the previous day's air quality remained moderate with an [...] Chennai experiences a warm and humid day today, September 27, 2025, with temperatures peaking at 35.1°C and an 84% chance of patchy rain. Yesterday's air quality was moderate, but showers might offer slight improvement. Residents are advised to carry umbrellas and plan morning outdoor activities. [...] Delhi BMW Accident\\n\\nDelhi British Women Murder\\n\\nAzam Khan\\n\\nKolkata Weather\\n\\n# Chennai weather: Warm temperatures with rain; AQI remains moderate\\n\\nTIMESOFINDIA.COM / Updated: Sep 27, 2025, 09:03 IST\\n\\nShare\\n\\nAA\\n\\nText Size\\n\\n Small\\n Medium\\n Large\", 'score': 0.9748428, 'raw_content': None}, {'url': 'https://thesouthfirst.com/news/weather-update-forecast-for-major-south-indian-cities-on-saturday-2/', 'title': 'Weather update: Forecast for major South Indian cities on Saturday', 'content': 'Published Sep 27, 2025 | 6:30 AM ⚊ Updated Sep 27, 2025 | 6:30 AM\\n\\nWeather forecast. (iStock)\\n\\nPlanning your day in South Indian cities of Hyderabad, Amaravati, Bengaluru, Thiruvananthapuram, or Chennai? Here’s what the weather has in store.\\n\\nWeather forecast for Saturday, 27 September 2025, as reported by the India Meteorological Department on Friday, 26 September, at 9:00 PM.\\n\\n### Hyderabad: Heavy rainfall\\n\\nThe city is expected to have a generally cloudy sky accompanied by heavy rainfall.', 'score': 0.914176, 'raw_content': None}], 'response_time': 1.24, 'request_id': '93a05fe2-38d3-43a6-b7fe-db3912b5f5b7'}),\n",
       "  AIMessage(content='The weather in Chennai on September 27, 2025, is expected to be warm and humid with temperatures reaching 35.1°C during the day and dropping to 26.8°C at night. There is an 84% chance of patchy rain throughout the day. The air quality was moderate yesterday, and showers might offer a slight improvement.', additional_kwargs={}, response_metadata={'prompt_feedback': {'block_reason': 0, 'safety_ratings': []}, 'finish_reason': 'STOP', 'safety_ratings': []}, id='run--a8215422-51d3-4717-abe1-bfbb51617ace-0', usage_metadata={'input_tokens': 676, 'output_tokens': 79, 'total_tokens': 755, 'input_token_details': {'cache_read': 627}})]}"
      ]
     },
     "execution_count": 10,
     "metadata": {},
     "output_type": "execute_result"
    }
   ],
   "source": [
    "from typing import TypedDict, Annotated\n",
    "from langgraph.graph import add_messages, StateGraph, START, END\n",
    "from langchain_core.messages import HumanMessage\n",
    "\n",
    "# Define parent graph with the same schema\n",
    "class ParentState(TypedDict):\n",
    "    messages: Annotated[list, add_messages]\n",
    "\n",
    "# Create parent graph\n",
    "parent_graph = StateGraph(ParentState)\n",
    "\n",
    "# Add the subgraph as a node\n",
    "parent_graph.add_node(\"search_agent\", search_app)\n",
    "\n",
    "# Connect the flow\n",
    "parent_graph.add_edge(START, \"search_agent\")\n",
    "parent_graph.add_edge(\"search_agent\", END)\n",
    "\n",
    "# Compile parent graph\n",
    "parent_app = parent_graph.compile()\n",
    "\n",
    "# Run the parent graph\n",
    "result = parent_app.invoke({\"messages\": [HumanMessage(content=\"How is the weather in Chennai?\")]})\n",
    "result"
   ]
  },
  {
   "cell_type": "markdown",
   "id": "fe5dfb70",
   "metadata": {},
   "source": [
    "### Case 2: Differnet Schema (invoke with transformation)"
   ]
  },
  {
   "cell_type": "code",
   "execution_count": 12,
   "id": "751726d5",
   "metadata": {},
   "outputs": [
    {
     "data": {
      "text/plain": [
       "{'query': 'How is the weather in Chennai?',\n",
       " 'response': 'The weather in Chennai on September 27, 2025, is warm and humid, with temperatures reaching 35.1°C during the day and 26.8°C at night. There is an 84% chance of patchy rain throughout the day. The air quality was moderate yesterday, and showers might offer a slight improvement.'}"
      ]
     },
     "execution_count": 12,
     "metadata": {},
     "output_type": "execute_result"
    }
   ],
   "source": [
    "## Define Parent graph with different schema\n",
    "class QueryState(TypedDict):\n",
    "    query: str\n",
    "    response: str\n",
    "\n",
    "### you can define transformation functions to convert between different schemas\n",
    "def search_agent(state: QueryState) -> ChildState:\n",
    "    # transfor to the subgraph \n",
    "    subgraph_input = {\n",
    "        \"messages\": [HumanMessage(content=state[\"query\"])]\n",
    "    }\n",
    "\n",
    "    subgraph_result = search_app.invoke(subgraph_input)\n",
    "    return {\n",
    "        \"response\": subgraph_result[\"messages\"][-1].content\n",
    "    } \n",
    "\n",
    "parent_graph = StateGraph(QueryState)\n",
    "\n",
    "# add the transformation node\n",
    "parent_graph.add_node(\"search_agent\", search_agent)\n",
    "parent_graph.set_entry_point(\"search_agent\")\n",
    "parent_graph.add_edge(\"search_agent\", END)\n",
    "\n",
    "parent_app = parent_graph.compile()\n",
    "\n",
    "result = parent_app.invoke({\"query\": \"How is the weather in Chennai?\"})\n",
    "result\n",
    "\n"
   ]
  },
  {
   "cell_type": "code",
   "execution_count": null,
   "id": "967ac4e8",
   "metadata": {},
   "outputs": [],
   "source": []
  },
  {
   "cell_type": "code",
   "execution_count": null,
   "id": "dbf0111c",
   "metadata": {},
   "outputs": [],
   "source": []
  }
 ],
 "metadata": {
  "kernelspec": {
   "display_name": "myenv",
   "language": "python",
   "name": "python3"
  },
  "language_info": {
   "codemirror_mode": {
    "name": "ipython",
    "version": 3
   },
   "file_extension": ".py",
   "mimetype": "text/x-python",
   "name": "python",
   "nbconvert_exporter": "python",
   "pygments_lexer": "ipython3",
   "version": "3.12.0"
  }
 },
 "nbformat": 4,
 "nbformat_minor": 5
}
